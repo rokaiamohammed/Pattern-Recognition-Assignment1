{
 "cells": [
  {
   "cell_type": "code",
   "execution_count": 1,
   "metadata": {},
   "outputs": [],
   "source": [
    "import numpy as np\n",
    "import sys\n",
    "import math \n",
    "from numpy.linalg import norm\n",
    "import matplotlib.pyplot as plt"
   ]
  },
  {
   "cell_type": "code",
   "execution_count": 2,
   "metadata": {},
   "outputs": [],
   "source": [
    "'''\n",
    "    batch_perceptron(X,Y,w)\n",
    "    \n",
    "        function that applies batch algorithm\n",
    "        \n",
    "        ...\n",
    "        \n",
    "        Parameters:\n",
    "        -----------\n",
    "        X: numpy array\n",
    "           array of features\n",
    "        Y:numpy array\n",
    "           labels array\n",
    "        w: array of random generated weights  \n",
    "        \n",
    "        Returns:\n",
    "        --------\n",
    "        w: array\n",
    "            last updated value of weight\n",
    "        w_update: array \n",
    "            containing all updated versions of the weight\n",
    "        epoch: int\n",
    "            number of interations through the dataset (how many times the algorithm passes through the entire dataset)\n",
    "        norm_delta: array\n",
    "            array containing the updated values of delta\n",
    "\n",
    "'''\n",
    "\n",
    "\n",
    "def batch_perceptron ( X , Y,w):\n",
    "    n = X.shape[1]\n",
    "    alpha=1                                #learning rate (default=1)\n",
    "    e = sys.float_info.epsilon\n",
    "    norm_delta=[]\n",
    "    epoch=0                              # no. of iterations (Complete passes)\n",
    "    delta = np.ones(n)\n",
    "    w_update = [ ]                      # array containing the updated value of W\n",
    "    \n",
    "    \n",
    "    while ( norm(delta,1) > e):         #checking if delta reached zero or not, if true then no new value of W will be calcualated\n",
    "        delta = np.zeros(n)\n",
    "        \n",
    "        for i in range(len(X)):\n",
    "            \n",
    "            if Y[i] * (w.dot(X[i])) <= 0:     \n",
    "                \n",
    "                delta = delta - ( Y[i] * X[i] )\n",
    "            \n",
    "        delta = delta/len(X)\n",
    "        norm_delta.append(norm(delta,1))      # get norm of delta and add them to a new array\n",
    "        epoch=epoch +1                         # No. of Complete passes through dataset \n",
    "        w = w - (alpha * delta)                 # update value of w and add it to w_update\n",
    "        w_update.append(w)\n",
    "            \n",
    "    return w ,  w_update, epoch, norm_delta"
   ]
  },
  {
   "cell_type": "code",
   "execution_count": 3,
   "metadata": {},
   "outputs": [],
   "source": [
    "'''\n",
    "    batch_perceptron(X,Y,w)\n",
    "    \n",
    "        function that applies Online algorithm\n",
    "        \n",
    "        ...\n",
    "        \n",
    "        Parameters:\n",
    "        -----------\n",
    "        X: numpy array\n",
    "           array of features\n",
    "        Y:numpy array\n",
    "           labels array\n",
    "        w: array of random generated weights  \n",
    "        \n",
    "        Returns:\n",
    "        --------\n",
    "        w: array\n",
    "            last updated value of weight\n",
    "       online_w_steps: array \n",
    "            containing all updated versions of the weight\n",
    "       online_epoch: int\n",
    "            number of interations through the dataset (how many times the algorithm passes through the entire dataset)\n",
    "       online_norm_delta: array\n",
    "            array containing the updated values of delta\n",
    "\n",
    "'''\n",
    "\n",
    "def online_batch_perceptron ( X , Y ,w):\n",
    "    \n",
    "    online_n = X.shape[1]\n",
    "    alpha=1 \n",
    "    online_data_length = len(X)\n",
    "    online_e = sys.float_info.epsilon\n",
    "    online_delta = np.ones(online_n)\n",
    "    online_w_steps = [ ]\n",
    "    online_norm_delta=[] \n",
    "    online_epoch=0\n",
    "    \n",
    "    while ( norm(online_delta,1) > online_e):\n",
    "        \n",
    "        online_delta = np.zeros(online_n)\n",
    "        \n",
    "        for i in range(len(X)): \n",
    "       \n",
    "            if Y[i] * (w.dot(X[i])) <= 0:\n",
    "                \n",
    "                online_delta = online_delta - ( Y[i] * X[i] )\n",
    "                online_delta = online_delta/online_data_length\n",
    "                  \n",
    "                w = w - (alpha * online_delta)       # weights value are updated in each iteration\n",
    "                online_w_steps.append(w)\n",
    "                \n",
    "                      \n",
    "        online_norm_delta.append(norm(online_delta,1))         \n",
    "        online_epoch=online_epoch+1\n",
    "        \n",
    "    return w ,  online_w_steps, online_epoch, online_norm_delta"
   ]
  },
  {
   "cell_type": "code",
   "execution_count": 4,
   "metadata": {},
   "outputs": [],
   "source": [
    "# Question no. 1 Inputs\n",
    "\n",
    "X = np.array([[50 , 55 , 70 , 80 , 130 , 150 , 155 , 160],\n",
    "               [1 , 1 , 1 , 1 , 1 , 1 , 1 , 1]]).T\n",
    "Y = np.array([1 , 1 , 1 , 1 , -1, -1 , -1 , -1])\n"
   ]
  },
  {
   "cell_type": "code",
   "execution_count": 5,
   "metadata": {},
   "outputs": [],
   "source": [
    "# Question no.  4 Inputs\n",
    "\n",
    "X= np.array([[0,255,0,0,255,0,255,255],\n",
    "             [0,0,255,0,255,255,0,255],\n",
    "             [0,0,0,255,0,255,255,255], \n",
    "             [1,1,1,1,1,1,1,1]]).T\n",
    "\n",
    "Y = np.array([1,1,1,-1,1,-1,-1,1])"
   ]
  },
  {
   "cell_type": "code",
   "execution_count": 6,
   "metadata": {},
   "outputs": [],
   "source": [
    "sign = lambda x: math.copysign(1,x)"
   ]
  },
  {
   "cell_type": "code",
   "execution_count": 7,
   "metadata": {},
   "outputs": [],
   "source": [
    "N = X.shape[1]\n",
    "Weight = np.random.uniform(-1, 1, N)             # Random weights that ranges from -1 to 1"
   ]
  },
  {
   "cell_type": "code",
   "execution_count": 8,
   "metadata": {},
   "outputs": [
    {
     "name": "stdout",
     "output_type": "stream",
     "text": [
      "0.31621736319609717\n",
      "78.40850176759973\n",
      "32.75555605006381\n",
      "186.72673537089236\n",
      "110.84784045446744\n",
      "219.16607405776008\n",
      "264.81901977529594\n",
      "297.25835846216364\n",
      "-0.05878263680390283\n",
      "-8050.0914982324\n",
      "-8095.744443949937\n",
      "-24198.023264629108\n",
      "-16145.777159545534\n",
      "-32293.70892594224\n",
      "-32248.055980224704\n",
      "-40343.74164153784\n",
      "0.5662173631960972\n",
      "16334.908501767599\n",
      "16289.255556050062\n",
      "-16069.273264629108\n",
      "32623.59784045447\n",
      "219.41607405775974\n",
      "265.0690197752963\n",
      "16553.758358462164\n",
      "0.31621736319609717\n",
      "8206.533501767599\n",
      "8160.880556050063\n",
      "-32325.773264629108\n",
      "16367.097840454466\n",
      "-24165.20892594224\n",
      "-24119.555980224704\n",
      "-15958.99164153784\n",
      "0.44121736319609717\n",
      "16334.783501767599\n",
      "16289.130556050062\n",
      "-24197.523264629108\n",
      "32623.47284045447\n",
      "-7908.833925942242\n",
      "-7863.180980224705\n",
      "8425.508358462163\n"
     ]
    }
   ],
   "source": [
    "w ,  w_update , epoch, norm_delta  = batch_perceptron( X , Y , Weight)"
   ]
  },
  {
   "cell_type": "code",
   "execution_count": 9,
   "metadata": {},
   "outputs": [
    {
     "name": "stdout",
     "output_type": "stream",
     "text": [
      "[ 64.05624425  63.87721309 -94.89397836   0.44121736]\n"
     ]
    }
   ],
   "source": [
    "print(w)"
   ]
  },
  {
   "cell_type": "code",
   "execution_count": 10,
   "metadata": {},
   "outputs": [],
   "source": [
    "Online_w ,  Online_w_update , Online_epoch, Online_norm_delta  = online_batch_perceptron( X , Y, Weight )"
   ]
  },
  {
   "cell_type": "code",
   "execution_count": 11,
   "metadata": {},
   "outputs": [
    {
     "name": "stdout",
     "output_type": "stream",
     "text": [
      "Value of W after all iterations:  [ 64.05624425  63.87721309 -94.89397836   0.44121736]\n",
      "No. of times weights are updated:  5\n",
      "No. of times delta value is updated:  5\n",
      "Total No. of iterations (epoch) :  5\n"
     ]
    }
   ],
   "source": [
    "#Batch Algorithm\n",
    "print('Value of W after all iterations: ',w)                        # Random values of w after all iterations\n",
    "print('No. of times weights are updated: ', len(w_update))          # no. of times the algorithm updates the weights\n",
    "print('No. of times delta value is updated: ', len(norm_delta))   # no. of times the algorithm updates the deltas\n",
    "print('Total No. of iterations (epoch) : ', epoch)\n"
   ]
  },
  {
   "cell_type": "code",
   "execution_count": 12,
   "metadata": {},
   "outputs": [
    {
     "name": "stdout",
     "output_type": "stream",
     "text": [
      "Value of W after all iterations:  [ 56.08749425  51.42604122 -87.42327524   0.09551424]\n",
      "No. of times weights are updated:  13\n",
      "No. of times delta value is updated:  8\n",
      "Total No. of iterations (epoch) :  8\n"
     ]
    }
   ],
   "source": [
    "#Online training\n",
    "print('Value of W after all iterations: ',Online_w)                        # Random values of w after all iterations\n",
    "print('No. of times weights are updated: ', len(Online_w_update))          # no. of times the algorithm updates the weights\n",
    "print('No. of times delta value is updated: ', len(Online_norm_delta))   # no. of times the algorithm updates the deltas\n",
    "print('Total No. of iterations (epoch) : ', Online_epoch)\n"
   ]
  },
  {
   "cell_type": "code",
   "execution_count": 13,
   "metadata": {},
   "outputs": [
    {
     "name": "stdout",
     "output_type": "stream",
     "text": [
      "1.0\n",
      "1.0\n",
      "1.0\n",
      "-1.0\n",
      "1.0\n",
      "-1.0\n",
      "-1.0\n",
      "1.0\n"
     ]
    }
   ],
   "source": [
    "for x in X:\n",
    "    print( sign( w.dot(x) ) )"
   ]
  },
  {
   "cell_type": "code",
   "execution_count": 14,
   "metadata": {},
   "outputs": [
    {
     "name": "stdout",
     "output_type": "stream",
     "text": [
      "1.0\n",
      "1.0\n",
      "1.0\n",
      "-1.0\n",
      "1.0\n",
      "-1.0\n",
      "-1.0\n",
      "1.0\n"
     ]
    }
   ],
   "source": [
    "for x in X:\n",
    "    print( sign( Online_w.dot(x) ) )"
   ]
  },
  {
   "cell_type": "code",
   "execution_count": 15,
   "metadata": {},
   "outputs": [
    {
     "data": {
      "image/png": "[encoded data removed]",
      "text/plain": [
       "<Figure size 432x288 with 1 Axes>"
      ]
     },
     "metadata": {
      "needs_background": "light"
     },
     "output_type": "display_data"
    }
   ],
   "source": [
    " # plotting final norm delta values for Batch algorithm\n",
    "plt.plot(norm_delta,'g')           \n",
    "plt.title('Norm of Delta Plot for batch perceptron')\n",
    "plt.xlabel('No. of times the delta is updated')\n",
    "plt.ylabel('Delta values')\n",
    "plt.show()"
   ]
  },
  {
   "cell_type": "code",
   "execution_count": 16,
   "metadata": {},
   "outputs": [
    {
     "data": {
      "image/png": "[encoded data removed]",
      "text/plain": [
       "<Figure size 432x288 with 1 Axes>"
      ]
     },
     "metadata": {
      "needs_background": "light"
     },
     "output_type": "display_data"
    }
   ],
   "source": [
    " # plotting final norm delta values for Online algorithm\n",
    "plt.plot(Online_norm_delta,'or-')            \n",
    "plt.title('Norm Delta Plot for Online Training')\n",
    "plt.xlabel('No. of times the delta is updated')\n",
    "plt.ylabel('Delta values')\n",
    "plt.show()"
   ]
  },
  {
   "cell_type": "code",
   "execution_count": null,
   "metadata": {},
   "outputs": [],
   "source": []
  }
 ],
 "metadata": {
  "kernelspec": {
   "display_name": "Python 3",
   "language": "python",
   "name": "python3"
  },
  "language_info": {
   "codemirror_mode": {
    "name": "ipython",
    "version": 3
   },
   "file_extension": ".py",
   "mimetype": "text/x-python",
   "name": "python",
   "nbconvert_exporter": "python",
   "pygments_lexer": "ipython3",
   "version": "3.8.3"
  }
 },
 "nbformat": 4,
 "nbformat_minor": 4
}
