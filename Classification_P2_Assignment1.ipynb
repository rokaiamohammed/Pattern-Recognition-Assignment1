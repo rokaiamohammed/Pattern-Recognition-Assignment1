{
 "cells": [
  {
   "cell_type": "code",
   "execution_count": 1,
   "metadata": {},
   "outputs": [],
   "source": [
    "import numpy as np\n",
    "import sys\n",
    "import math \n",
    "from numpy.linalg import norm\n",
    "from sklearn.datasets import make_classification\n",
    "from sklearn.model_selection import train_test_split\n",
    "import matplotlib.pyplot as plt\n",
    "from sklearn.metrics import accuracy_score\n",
    "from sklearn.linear_model import LogisticRegression"
   ]
  },
  {
   "cell_type": "code",
   "execution_count": null,
   "metadata": {},
   "outputs": [],
   "source": [
    "# Classification Part"
   ]
  },
  {
   "cell_type": "code",
   "execution_count": 2,
   "metadata": {},
   "outputs": [],
   "source": [
    "def batch_perceptron ( X , Y,w):\n",
    "    \n",
    "\n",
    "    n = X.shape[1]      \n",
    "    alpha=1                                #learning rate (default=1)\n",
    "    e = sys.float_info.epsilon\n",
    "    norm_delta=[]\n",
    "    epoch=0                              # no. of iterations (Complete passes)\n",
    "    delta = np.ones(n)\n",
    "    w_update = [ ]                      # array containing the updated value of W\n",
    "    \n",
    "    \n",
    "    while ( norm(delta,1) > e):\n",
    "        delta = np.zeros(n)\n",
    "        \n",
    "        for i in range(len(X)):\n",
    "            \n",
    "            if Y[i] *(w.dot(X[i]))<= 0:\n",
    "                \n",
    "                delta = delta - ( Y[i] * X[i] )\n",
    "            \n",
    "        delta = delta/len(X)\n",
    "        norm_delta.append(norm(delta,1))      # get norm of delta and add them to a new array\n",
    "        epoch=epoch +1                         # No. of Complete passes through dataset \n",
    "        w = w - (alpha * delta)                 # update value of w and add it to w_update\n",
    "        w_update.append(w)\n",
    "        \n",
    "        if(epoch >60):                     # Used as the function enters an infinite for loop\n",
    "                                            # when no. of epoch increases highly, so we try to limit them\n",
    "            break\n",
    "        \n",
    "        \n",
    "            \n",
    "    return w ,  w_update, epoch, norm_delta"
   ]
  },
  {
   "cell_type": "code",
   "execution_count": 3,
   "metadata": {},
   "outputs": [],
   "source": [
    "def online_batch_perceptron ( X , Y ,w):\n",
    "  \n",
    "        \n",
    "    online_n  = X.shape[1]       \n",
    "    alpha=1 \n",
    "    online_data_length = len(X)\n",
    "    online_e = sys.float_info.epsilon\n",
    "    online_delta = np.ones(online_n)\n",
    "    online_w_steps = [ ]\n",
    "    online_norm_delta=[] \n",
    "    online_epoch=0\n",
    "    \n",
    "    while ( norm(online_delta,1) > online_e):\n",
    "        \n",
    "        online_delta = np.zeros(online_n)\n",
    "        \n",
    "        for i in range(len(X)):\n",
    "            \n",
    "       \n",
    "            if Y[i] *(w.dot(X[i]))<= 0:\n",
    "                \n",
    "                online_delta = online_delta - ( Y[i] * X[i] )\n",
    "                online_delta = online_delta/online_data_length\n",
    "                  \n",
    "                w = w - (alpha * online_delta)             # weights value are updated in each iteration\n",
    "                online_w_steps.append(w)\n",
    "                       \n",
    "                \n",
    "        online_norm_delta.append(norm(online_delta,1))         \n",
    "        online_epoch=online_epoch+1\n",
    "        \n",
    "        if(online_epoch > 60):                   # Used as the function enters an infinite for loop\n",
    "                                               # when no. of epoch increases highly, so we try to limit them    \n",
    "            break\n",
    "        \n",
    "       \n",
    "    return w ,  online_w_steps, online_epoch, online_norm_delta"
   ]
  },
  {
   "cell_type": "code",
   "execution_count": 25,
   "metadata": {},
   "outputs": [
    {
     "data": {
      "text/plain": [
       "<matplotlib.collections.PathCollection at 0x1fb61bf32e0>"
      ]
     },
     "execution_count": 25,
     "metadata": {},
     "output_type": "execute_result"
    },
    {
     "data": {
      "image/png": "[encoded data removed]",
      "text/plain": [
       "<Figure size 432x288 with 1 Axes>"
      ]
     },
     "metadata": {
      "needs_background": "light"
     },
     "output_type": "display_data"
    }
   ],
   "source": [
    "X,Y = make_classification(25, n_features=2,n_redundant=0, n_informative=1, n_clusters_per_class=1)\n",
    "\n",
    "mask_for_y=Y==0\n",
    "Y[mask_for_y]=-1\n",
    "plt.scatter(X[:,0], X[:,1], marker='o',c=Y,s=25, edgecolor='k')"
   ]
  },
  {
   "cell_type": "code",
   "execution_count": 26,
   "metadata": {},
   "outputs": [],
   "source": [
    "# splitting the data intp 75% training data & 25% testing data\n",
    "# if test_size is swet to be 0.25, the training data is automatically set to be 0.75\n",
    "\n",
    "X_train, X_test, Y_train, Y_test = train_test_split(X, Y, test_size=0.25)"
   ]
  },
  {
   "cell_type": "code",
   "execution_count": 27,
   "metadata": {},
   "outputs": [],
   "source": [
    "sign = lambda X_train: math.copysign(1,X_train)"
   ]
  },
  {
   "cell_type": "code",
   "execution_count": 28,
   "metadata": {},
   "outputs": [],
   "source": [
    "N = X_train.shape[1]\n",
    "Weight = np.random.uniform(-1, 1, N)"
   ]
  },
  {
   "cell_type": "code",
   "execution_count": 29,
   "metadata": {},
   "outputs": [],
   "source": [
    "w ,  w_update , epoch, norm_delta  = batch_perceptron( X_train , Y_train ,Weight)"
   ]
  },
  {
   "cell_type": "code",
   "execution_count": 30,
   "metadata": {},
   "outputs": [],
   "source": [
    "Online_w ,  Online_w_update , Online_epoch, Online_norm_delta  = online_batch_perceptron( X_train,Y_train, Weight)"
   ]
  },
  {
   "cell_type": "code",
   "execution_count": 31,
   "metadata": {},
   "outputs": [
    {
     "name": "stdout",
     "output_type": "stream",
     "text": [
      "Value of W after all iterations:  [-0.3103963  0.447113 ]\n",
      "No. of times weights are updated:  61\n",
      "No. of times delta value is updated:  61\n",
      "Total No. of iterations (epoch) :  61\n"
     ]
    }
   ],
   "source": [
    "#Batch Algorithm\n",
    "print('Value of W after all iterations: ',w)                        # Random values of w after all iterations\n",
    "print('No. of times weights are updated: ', len(w_update))          # no. of times the algorithm updates the weights\n",
    "print('No. of times delta value is updated: ', len(norm_delta))   # no. of times the algorithm updates the deltas\n",
    "print('Total No. of iterations (epoch) : ', epoch)\n"
   ]
  },
  {
   "cell_type": "code",
   "execution_count": 32,
   "metadata": {
    "scrolled": true
   },
   "outputs": [
    {
     "name": "stdout",
     "output_type": "stream",
     "text": [
      "Value of W after all iterations:  [-0.02112768  0.13187516]\n",
      "No. of times weights are updated:  64\n",
      "No. of times delta value is updated:  61\n",
      "Total No. of iterations (epoch) :  61\n"
     ]
    }
   ],
   "source": [
    "#Online training\n",
    "print('Value of W after all iterations: ',Online_w)                        # Random values of w after all iterations\n",
    "print('No. of times weights are updated: ', len(Online_w_update))          # no. of times the algorithm updates the weights\n",
    "print('No. of times delta value is updated: ', len(Online_norm_delta))   # no. of times the algorithm updates the deltas\n",
    "print('Total No. of iterations (epoch) : ', Online_epoch)\n"
   ]
  },
  {
   "cell_type": "code",
   "execution_count": 33,
   "metadata": {},
   "outputs": [],
   "source": [
    "for x in X_train:\n",
    "    sign(w.dot(x))"
   ]
  },
  {
   "cell_type": "code",
   "execution_count": 34,
   "metadata": {},
   "outputs": [],
   "source": [
    "for x in X_train:\n",
    "    sign( Online_w.dot(x) )"
   ]
  },
  {
   "cell_type": "code",
   "execution_count": 35,
   "metadata": {},
   "outputs": [
    {
     "data": {
      "image/png": "[encoded data removed]",
      "text/plain": [
       "<Figure size 432x288 with 1 Axes>"
      ]
     },
     "metadata": {
      "needs_background": "light"
     },
     "output_type": "display_data"
    }
   ],
   "source": [
    "plt.plot(norm_delta,'ob-')            # final delta values\n",
    "plt.title('Norm of Delta Plot for batch perceptron')\n",
    "plt.xlabel('No. of times the delta is updated')\n",
    "plt.ylabel('Delta values')\n",
    "plt.show()"
   ]
  },
  {
   "cell_type": "code",
   "execution_count": 36,
   "metadata": {},
   "outputs": [
    {
     "data": {
      "image/png": "[encoded data removed]",
      "text/plain": [
       "<Figure size 432x288 with 1 Axes>"
      ]
     },
     "metadata": {
      "needs_background": "light"
     },
     "output_type": "display_data"
    }
   ],
   "source": [
    "plt.plot(Online_norm_delta,'og-')            # final delta values\n",
    "plt.title('Norm of Delta Plot for Online Training')\n",
    "plt.xlabel('No. of times the delta is updated')\n",
    "plt.ylabel('Online training Delta values')\n",
    "plt.show()"
   ]
  },
  {
   "cell_type": "code",
   "execution_count": 37,
   "metadata": {},
   "outputs": [],
   "source": [
    "# Accuracy Calculation"
   ]
  },
  {
   "cell_type": "code",
   "execution_count": 38,
   "metadata": {},
   "outputs": [
    {
     "name": "stdout",
     "output_type": "stream",
     "text": [
      "Y Predict : [-1 -1 -1 -1  1 -1 -1]\n",
      "Y Test : [-1 -1 -1 -1  1 -1 -1]\n"
     ]
    }
   ],
   "source": [
    "Classifier=LogisticRegression(random_state=0)\n",
    "Classifier.fit(X_train,Y_train)\n",
    "y_pred=Classifier.predict(X_test)     # calculation of y_pred to get the model's accuracy\n",
    "print(\"Y Predict :\", y_pred)            #If Y_predict is not equal Y_Test then the accuracy will be less than 100%\n",
    "print(\"Y Test :\", Y_test)"
   ]
  },
  {
   "cell_type": "code",
   "execution_count": 39,
   "metadata": {},
   "outputs": [
    {
     "name": "stdout",
     "output_type": "stream",
     "text": [
      "Accuracy Percentage of the Model =  100.0\n"
     ]
    }
   ],
   "source": [
    "print('Accuracy Percentage of the Model = ', 100* (accuracy_score(Y_test, y_pred)))"
   ]
  },
  {
   "cell_type": "code",
   "execution_count": 42,
   "metadata": {},
   "outputs": [
    {
     "data": {
      "image/png": "[encoded data removed]",
      "text/plain": [
       "<Figure size 432x288 with 1 Axes>"
      ]
     },
     "metadata": {
      "needs_background": "light"
     },
     "output_type": "display_data"
    }
   ],
   "source": [
    "#Visualising the training set result for Online Algorithm\n",
    "\n",
    "plt.scatter(X[:,0], X[:,1], marker='o',c=Y,s=25, edgecolor='k')\n",
    "\n",
    "x_values = [np.min(X_train[:, 0]), np.max(X_train[:,1])]\n",
    "\n",
    "y_values= -(np.dot(Online_w[0],x_values))/Online_w[1]\n",
    "\n",
    "plt.plot(x_values, y_values, label='Online Line Model')\n",
    "plt.legend()\n",
    "plt.show()\n",
    "\n"
   ]
  },
  {
   "cell_type": "code",
   "execution_count": 43,
   "metadata": {},
   "outputs": [
    {
     "data": {
      "image/png": "[encoded data removed]",
      "text/plain": [
       "<Figure size 432x288 with 1 Axes>"
      ]
     },
     "metadata": {
      "needs_background": "light"
     },
     "output_type": "display_data"
    }
   ],
   "source": [
    "#Visualising the training set result for Batch Algorithm\n",
    "\n",
    "plt.scatter(X[:,0], X[:,1], marker='o',c=Y,s=25, edgecolor='k')\n",
    "\n",
    "x_values = [np.min(X_train[:, 0]), np.max(X_train[:,1])]\n",
    "\n",
    "y_values= -(np.dot(w[0],x_values))/w[1]\n",
    "\n",
    "plt.plot(x_values, y_values, label='Batch Line Model')\n",
    "plt.legend()\n",
    "plt.show()\n"
   ]
  },
  {
   "cell_type": "code",
   "execution_count": null,
   "metadata": {},
   "outputs": [],
   "source": []
  }
 ],
 "metadata": {
  "kernelspec": {
   "display_name": "Python 3",
   "language": "python",
   "name": "python3"
  },
  "language_info": {
   "codemirror_mode": {
    "name": "ipython",
    "version": 3
   },
   "file_extension": ".py",
   "mimetype": "text/x-python",
   "name": "python",
   "nbconvert_exporter": "python",
   "pygments_lexer": "ipython3",
   "version": "3.8.3"
  }
 },
 "nbformat": 4,
 "nbformat_minor": 4
}
