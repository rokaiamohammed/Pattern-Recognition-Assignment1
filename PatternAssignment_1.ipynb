{
 "cells": [
  {
   "cell_type": "code",
   "execution_count": 140,
   "metadata": {},
   "outputs": [],
   "source": [
    "import numpy as np\n",
    "import sys\n",
    "import math \n",
    "from numpy.linalg import norm"
   ]
  },
  {
   "cell_type": "code",
   "execution_count": 141,
   "metadata": {},
   "outputs": [],
   "source": [
    "def batch_perceptron ( X , Y , lr = 1):\n",
    "    n = X.shape[1]\n",
    "    w = np.zeros(n)\n",
    "    e = sys.float_info.epsilon\n",
    "    delta = np.ones(n)\n",
    "    w_steps = [ ]\n",
    "    \n",
    "    while ( norm(delta,1) > e):\n",
    "        delta = np.zeros(n)\n",
    "        \n",
    "        for i in range(len(X)):\n",
    "            \n",
    "            u = w.dot(X[i])\n",
    "            if Y[i] * u <= 0:\n",
    "                delta = delta - ( Y[i] * X[i] )\n",
    "            delta = delta/len(X)\n",
    "            w = w - (lr * delta)\n",
    "            w_steps.append(w)\n",
    "            \n",
    "    return w , w_steps, delta"
   ]
  },
  {
   "cell_type": "code",
   "execution_count": 142,
   "metadata": {},
   "outputs": [],
   "source": [
    "def online_batch_perceptron ( X , Y , lr = 1):\n",
    "    n = X.shape[1]\n",
    "    data_length = len(X)\n",
    "    w = np.zeros(n)\n",
    "    e = sys.float_info.epsilon\n",
    "    delta = np.ones(n)\n",
    "    w_steps = [ ]\n",
    "    \n",
    "    while ( norm(delta,1) > e):\n",
    "        \n",
    "        delta = np.zeros(n)\n",
    "        for i in range(len(X)):\n",
    "            \n",
    "            u = w.dot(X[i])\n",
    "            if Y[i] * u <= 0:\n",
    "                delta = delta - ( Y[i] * X[i] )\n",
    "                delta = delta/data_length\n",
    "                w = w - (lr * delta)\n",
    "                w_steps.append(w)\n",
    "                \n",
    "    return w , w_steps\n"
   ]
  },
  {
   "cell_type": "code",
   "execution_count": 143,
   "metadata": {},
   "outputs": [],
   "source": [
    "X = np.array([[50 , 55 , 70 , 80 , 130 , 150 , 155 , 160],\n",
    "             [1 , 1 , 1 , 1 , 1 , 1 , 1 , 1]]).T\n",
    "Y = np.array([1 , 1 , 1 , 1 , -1, -1 , -1 , -1])"
   ]
  },
  {
   "cell_type": "code",
   "execution_count": 144,
   "metadata": {},
   "outputs": [],
   "source": [
    "sign = lambda x: math.copysign(1,x)"
   ]
  },
  {
   "cell_type": "code",
   "execution_count": 145,
   "metadata": {},
   "outputs": [],
   "source": [
    "w , steps , delta  = batch_perceptron( X , Y )"
   ]
  },
  {
   "cell_type": "code",
   "execution_count": 146,
   "metadata": {},
   "outputs": [
    {
     "name": "stdout",
     "output_type": "stream",
     "text": [
      "1.0\n",
      "1.0\n",
      "1.0\n",
      "1.0\n",
      "-1.0\n",
      "-1.0\n",
      "-1.0\n",
      "-1.0\n"
     ]
    }
   ],
   "source": [
    "for x in X:\n",
    "    print( sign( w.dot(x) ) )"
   ]
  },
  {
   "cell_type": "code",
   "execution_count": 147,
   "metadata": {},
   "outputs": [],
   "source": [
    "w_online , steps_online = online_batch_perceptron( X , Y )"
   ]
  },
  {
   "cell_type": "code",
   "execution_count": 148,
   "metadata": {},
   "outputs": [
    {
     "data": {
      "text/plain": [
       "array([-0.08544922, 10.95043945])"
      ]
     },
     "execution_count": 148,
     "metadata": {},
     "output_type": "execute_result"
    }
   ],
   "source": [
    "w_online"
   ]
  },
  {
   "cell_type": "code",
   "execution_count": 149,
   "metadata": {},
   "outputs": [
    {
     "name": "stdout",
     "output_type": "stream",
     "text": [
      "1.0\n",
      "1.0\n",
      "1.0\n",
      "1.0\n",
      "-1.0\n",
      "-1.0\n",
      "-1.0\n",
      "-1.0\n"
     ]
    }
   ],
   "source": [
    "for x in X:\n",
    "    print( sign( w_online.dot(x) ) )"
   ]
  }
 ],
 "metadata": {
  "kernelspec": {
   "display_name": "Python 3",
   "language": "python",
   "name": "python3"
  },
  "language_info": {
   "codemirror_mode": {
    "name": "ipython",
    "version": 3
   },
   "file_extension": ".py",
   "mimetype": "text/x-python",
   "name": "python",
   "nbconvert_exporter": "python",
   "pygments_lexer": "ipython3",
   "version": "3.8.5"
  }
 },
 "nbformat": 4,
 "nbformat_minor": 4
}
